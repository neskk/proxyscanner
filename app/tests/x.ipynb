{
 "cells": [
  {
   "cell_type": "code",
   "execution_count": null,
   "metadata": {},
   "outputs": [],
   "source": [
    "from proxytools.scrappers.spysone import SpysHTTPS, SpysSOCKS\n",
    "x = SpysHTTPS()\n",
    "x.scrap()\n",
    "\n",
    "\"\"\"\n",
    "c5c0915afb1037f1829c80eb167743c6\n",
    "6c8d2ea0a3aee31c444987e8b44ceb29\n",
    "\"\"\""
   ]
  },
  {
   "cell_type": "code",
   "execution_count": 4,
   "metadata": {},
   "outputs": [],
   "source": [
    "content = \"\"\"\n",
    "<tr class=\"spy1x\" onmouseout=\"this.style.background='#19373A'\" onmouseover=\"this.style.background='#002424'\">\n",
    "       <td colspan=\"1\">\n",
    "        <font class=\"spy14\">\n",
    "         138.201.111.141\n",
    "         <script type=\"text/javascript\">\n",
    "          document.write(\"<font class=spy2>:<\\/font>\"+(ThreeSevenOneOne^FourEightFive)+(ThreeFourFiveEight^Five8One))\n",
    "         </script>\n",
    "        </font>\n",
    "       </td>\n",
    "       <td colspan=\"1\">\n",
    "        HTTPS\n",
    "       </td>\n",
    "       <td colspan=\"1\">\n",
    "        <a href=\"/en/anonymous-proxy-list/\">\n",
    "         <font class=\"spy1\">\n",
    "          HIA\n",
    "         </font>\n",
    "        </a>\n",
    "       </td>\n",
    "       <td colspan=\"1\">\n",
    "        <a href=\"/free-proxy-list/DE/\">\n",
    "         <font class=\"spy14\">\n",
    "          Germany\n",
    "         </font>\n",
    "        </a>\n",
    "       </td>\n",
    "       <td colspan=\"1\">\n",
    "        <font class=\"spy1\">\n",
    "         static.141.111.201.138.clients.your-server.de\n",
    "        </font>\n",
    "        <font class=\"spy14\">\n",
    "         (Hetzner Online GmbH)\n",
    "        </font>\n",
    "       </td>\n",
    "       <td colspan=\"1\">\n",
    "        <font class=\"spy1\">\n",
    "         3.367\n",
    "        </font>\n",
    "       </td>\n",
    "       <td colspan=\"1\">\n",
    "        <table cellpadding=\"0\" cellspacing=\"0\" height=\"8\" width=\"17\">\n",
    "         <tr bgcolor=\"blue\">\n",
    "          <td width=\"1\">\n",
    "          </td>\n",
    "         </tr>\n",
    "        </table>\n",
    "       </td>\n",
    "       <td colspan=\"1\">\n",
    "        <font class=\"spy1\">\n",
    "         <acronym title=\"20 of 128 - last check status=?\">\n",
    "          <font class=\"spy5\">\n",
    "           16% (20)\n",
    "          </font>\n",
    "          <font class=\"spy5\">\n",
    "           -\n",
    "          </font>\n",
    "         </acronym>\n",
    "        </font>\n",
    "       </td>\n",
    "       <td colspan=\"1\">\n",
    "        <font class=\"spy1\">\n",
    "         <font class=\"spy14\">\n",
    "          18-oct-2022\n",
    "         </font>\n",
    "         07:41\n",
    "         <font class=\"spy5\">\n",
    "          (1 days ago)\n",
    "         </font>\n",
    "        </font>\n",
    "       </td>\n",
    "      </tr>\n",
    "\"\"\"\n",
    "\n",
    "from bs4 import BeautifulSoup\n",
    "\n",
    "row = BeautifulSoup(content)\n",
    "\n",
    "columns = row.find_all('td')\n",
    "\n",
    "fonts = columns[0].find_all('font')\n",
    "\n",
    "info = fonts[0]\n",
    "script = info.find('script')\n",
    "\n",
    "# Remove script tag from contents.\n",
    "script = script.extract().string\n",
    "ip = info.get_text()\n"
   ]
  },
  {
   "cell_type": "code",
   "execution_count": 23,
   "metadata": {},
   "outputs": [
    {
     "name": "stdout",
     "output_type": "stream",
     "text": [
      "03..8126.20.81.62.3203..81\n",
      "15-6\n",
      "10+10\n"
     ]
    }
   ],
   "source": [
    "ip_script = 'document.write(\"03..8126.20.81.62.3203..81\".substring(15-6, 10+10))'\n",
    "\n",
    "import re\n",
    "m = re.search(r\"document.write\\(\\\"(.*)\\\".substring\\(([\\d\\-\\+]+),\\s*([\\d\\-\\+]+)\\)\\)\", ip_script)\n",
    "\n",
    "if m:\n",
    "  for g in m.groups():\n",
    "    print(g)"
   ]
  },
  {
   "cell_type": "code",
   "execution_count": 29,
   "metadata": {},
   "outputs": [
    {
     "data": {
      "text/plain": [
       "'20.81.62.32'"
      ]
     },
     "execution_count": 29,
     "metadata": {},
     "output_type": "execute_result"
    }
   ],
   "source": [
    "ip_str = m.group(1)\n",
    "start_idx = eval(m.group(2))\n",
    "end_idx = eval(m.group(3))\n",
    "\n",
    "ip_str[start_idx:end_idx]"
   ]
  },
  {
   "cell_type": "code",
   "execution_count": 32,
   "metadata": {},
   "outputs": [
    {
     "data": {
      "text/plain": [
       "True"
      ]
     },
     "execution_count": 32,
     "metadata": {},
     "output_type": "execute_result"
    }
   ],
   "source": [
    "ip = \"20.54.56.26\"\n",
    "parts = ip.split('.')\n",
    "res = len(parts) == 4 and all(0 <= int(part) < 256 for part in parts)\n",
    "res"
   ]
  }
 ],
 "metadata": {
  "kernelspec": {
   "display_name": "Python 3.9.6 64-bit",
   "language": "python",
   "name": "python3"
  },
  "language_info": {
   "codemirror_mode": {
    "name": "ipython",
    "version": 3
   },
   "file_extension": ".py",
   "mimetype": "text/x-python",
   "name": "python",
   "nbconvert_exporter": "python",
   "pygments_lexer": "ipython3",
   "version": "3.9.6"
  },
  "orig_nbformat": 4,
  "vscode": {
   "interpreter": {
    "hash": "11938c6bc6919ae2720b4d5011047913343b08a43b18698fd82dedb0d4417594"
   }
  }
 },
 "nbformat": 4,
 "nbformat_minor": 2
}
