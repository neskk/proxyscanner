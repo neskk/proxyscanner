{
 "cells": [
  {
   "cell_type": "code",
   "execution_count": 11,
   "metadata": {},
   "outputs": [
    {
     "name": "stdout",
     "output_type": "stream",
     "text": [
      "41.234.66.33\n"
     ]
    }
   ],
   "source": [
    "import re\n",
    "\n",
    "ip_script = \"document.write('41.23' + '4.66.33');\"\n",
    "m = re.search(r\"document.write\\('([\\d\\.]+)'\\s\\+\\s'([\\d\\.]+)'\\)\", ip_script)\n",
    "print(m.group(1) + m.group(2))"
   ]
  }
 ],
 "metadata": {
  "interpreter": {
   "hash": "36b3a09c167ec57e2faf20dd1997693870c82d03ac10560cced8a413046ad0a3"
  },
  "kernelspec": {
   "display_name": "Python 3.9.6 64-bit ('venv': venv)",
   "language": "python",
   "name": "python3"
  },
  "language_info": {
   "codemirror_mode": {
    "name": "ipython",
    "version": 3
   },
   "file_extension": ".py",
   "mimetype": "text/x-python",
   "name": "python",
   "nbconvert_exporter": "python",
   "pygments_lexer": "ipython3",
   "version": "3.9.6"
  },
  "orig_nbformat": 4
 },
 "nbformat": 4,
 "nbformat_minor": 2
}
